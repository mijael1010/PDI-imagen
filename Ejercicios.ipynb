{
 "cells": [
  {
   "cell_type": "markdown",
   "metadata": {},
   "source": [
    "FACTORIAL"
   ]
  },
  {
   "cell_type": "code",
   "execution_count": 20,
   "metadata": {},
   "outputs": [
    {
     "name": "stdout",
     "output_type": "stream",
     "text": [
      "El factorial de 6 es: 720\n"
     ]
    }
   ],
   "source": [
    "\n",
    "numero = int(input(\"Ingrese un número entero: \"))\n",
    "\n",
    "\n",
    "if numero < 0:\n",
    "    print(\"El factorial no está definido para números negativos.\")\n",
    "else:\n",
    "    factorial = 1\n",
    "    contador = 1\n",
    "    while contador <= numero:\n",
    "        factorial *= contador\n",
    "        contador += 1\n",
    "\n",
    "    print(\"El factorial de\", numero, \"es:\", factorial)\n"
   ]
  },
  {
   "cell_type": "markdown",
   "metadata": {},
   "source": [
    "PRIMO"
   ]
  },
  {
   "cell_type": "code",
   "execution_count": 19,
   "metadata": {},
   "outputs": [
    {
     "name": "stdout",
     "output_type": "stream",
     "text": [
      "5 es un número primo.\n"
     ]
    }
   ],
   "source": [
    "\n",
    "numero = int(input(\"Ingrese un número entero: \"))\n",
    "\n",
    "\n",
    "if numero <= 1:\n",
    "    primo = False\n",
    "else:\n",
    "    primo = True\n",
    "    for i in range(2, int(numero**0.5) + 1):\n",
    "        if numero % i == 0:\n",
    "            primo = False\n",
    "            break\n",
    "\n",
    "\n",
    "if primo:\n",
    "    print(numero, \"es un número primo.\")\n",
    "else:\n",
    "    print(numero, \"no es un número primo.\")\n"
   ]
  },
  {
   "cell_type": "markdown",
   "metadata": {},
   "source": [
    "NUMERO MAYOR"
   ]
  },
  {
   "cell_type": "code",
   "execution_count": 8,
   "metadata": {},
   "outputs": [
    {
     "name": "stdout",
     "output_type": "stream",
     "text": [
      "El número mayor es: 7.0\n",
      "El número menor es: 2.0\n"
     ]
    }
   ],
   "source": [
    "\n",
    "limite = int(input(\"Ingrese el número de elementos (no menor a 3): \"))\n",
    "\n",
    "\n",
    "if limite < 3:\n",
    "    print(\"El número de elementos debe ser al menos 3.\")\n",
    "else:\n",
    "    \n",
    "    numeros = []\n",
    "\n",
    "    \n",
    "    for i in range(limite):\n",
    "        numero = float(input(\"Ingrese el número {}: \".format(i + 1)))\n",
    "        numeros.append(numero)\n",
    "\n",
    "   \n",
    "    numero_mayor = max(numeros)\n",
    "    numero_menor = min(numeros)\n",
    "\n",
    "   \n",
    "    print(\"El número mayor es:\", numero_mayor)\n",
    "    print(\"El número menor es:\", numero_menor)\n"
   ]
  },
  {
   "cell_type": "markdown",
   "metadata": {},
   "source": [
    "PALINDROMO"
   ]
  },
  {
   "cell_type": "code",
   "execution_count": 16,
   "metadata": {},
   "outputs": [
    {
     "name": "stdout",
     "output_type": "stream",
     "text": [
      "La cadena :marco: no es un palíndromo.\n"
     ]
    }
   ],
   "source": [
    "\n",
    "cadena = input(\"Ingrese una cadena: \")\n",
    "\n",
    "\n",
    "cadena = cadena.replace(\" \", \"\").lower()\n",
    "\n",
    "\n",
    "if cadena == cadena[::-1]:\n",
    "    print(\"La cadena :\"+ cadena+ \": es un palíndromo.\" )\n",
    "else:\n",
    "    print(\"La cadena :\"+ cadena+ \": no es un palíndromo.\")\n"
   ]
  },
  {
   "cell_type": "markdown",
   "metadata": {},
   "source": [
    "ANAGRAMA"
   ]
  },
  {
   "cell_type": "code",
   "execution_count": 18,
   "metadata": {},
   "outputs": [
    {
     "name": "stdout",
     "output_type": "stream",
     "text": [
      "Las palabras no son anagramas.\n"
     ]
    }
   ],
   "source": [
    "\n",
    "palabra1 = input(\"Ingrese la primera palabra: \").lower()\n",
    "palabra2 = input(\"Ingrese la segunda palabra: \").lower()\n",
    "\n",
    "\n",
    "palabra1 = sorted(palabra1.replace(\" \", \"\"))\n",
    "palabra2 = sorted(palabra2.replace(\" \", \"\"))\n",
    "\n",
    "\n",
    "if palabra1 == palabra2:\n",
    "    print(\"Las palabras son anagramas.\")\n",
    "else:\n",
    "    print(\"Las palabras no son anagramas.\")\n"
   ]
  }
 ],
 "metadata": {
  "kernelspec": {
   "display_name": "pdi",
   "language": "python",
   "name": "python3"
  },
  "language_info": {
   "codemirror_mode": {
    "name": "ipython",
    "version": 3
   },
   "file_extension": ".py",
   "mimetype": "text/x-python",
   "name": "python",
   "nbconvert_exporter": "python",
   "pygments_lexer": "ipython3",
   "version": "3.12.2"
  }
 },
 "nbformat": 4,
 "nbformat_minor": 2
}
